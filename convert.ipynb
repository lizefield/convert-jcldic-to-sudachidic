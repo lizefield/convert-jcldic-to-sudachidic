{
 "cells": [
  {
   "cell_type": "markdown",
   "metadata": {},
   "source": [
    "## Setup\n",
    "\n",
    "必要なパッケージのインストール"
   ]
  },
  {
   "cell_type": "code",
   "execution_count": null,
   "metadata": {},
   "outputs": [],
   "source": [
    "!pip install pandas sudachipy sudachidict_core"
   ]
  },
  {
   "cell_type": "markdown",
   "metadata": {},
   "source": [
    "## Download JCLdic (Full CSV)\n",
    "\n",
    "CSVフォーマットのJCLdicをダウンロード"
   ]
  },
  {
   "cell_type": "code",
   "execution_count": null,
   "metadata": {},
   "outputs": [],
   "source": [
    "import urllib.request\n",
    "\n",
    "url = 'https://s3-ap-northeast-1.amazonaws.com/chakki.jcl.jp/public/jcl_full_mecab.csv.zip'\n",
    "urllib.request.urlretrieve(url, 'jcl_full_mecab.csv.zip')"
   ]
  },
  {
   "cell_type": "code",
   "execution_count": null,
   "metadata": {},
   "outputs": [],
   "source": [
    "import zipfile\n",
    "\n",
    "with zipfile.ZipFile('jcl_full_mecab.csv.zip') as file:\n",
    "  file.extractall()"
   ]
  },
  {
   "cell_type": "markdown",
   "metadata": {},
   "source": [
    "## Fix MeCab CSV Column\n",
    "\n",
    "`genkei` カラムに 「`,`」（カンマ）が入っている場合があり、後処理の変換時にエラーとなるため修正"
   ]
  },
  {
   "cell_type": "code",
   "execution_count": null,
   "metadata": {},
   "outputs": [],
   "source": [
    "input_csv_file_name = 'jcl_full_mecab_backup.csv'\n",
    "output_csv_file_name = 'jcl_full_mecab_backup_fix.csv'\n",
    "fixed_count = 0\n",
    "\n",
    "output_file = open(output_csv_file_name, 'w', encoding='UTF-8')\n",
    "\n",
    "with open(input_csv_file_name) as input_file:\n",
    "  for line in input_file:\n",
    "    cols = line.split(',')\n",
    "    if len(cols) > 13:\n",
    "      print(f\"[x]{','.join(cols)}\")\n",
    "      a = cols[:10]\n",
    "      b = ''.join(cols[10:-2])\n",
    "      c = cols[-2:]\n",
    "      a.append(b)\n",
    "      a.extend(c)\n",
    "      print(f\"[o]{','.join(a)}\")\n",
    "      output_file.write(f\"{','.join(a)}\")\n",
    "      fixed_count += 1\n",
    "    else:\n",
    "      output_file.write(f\"{line}\")\n",
    "\n",
    "output_file.close()\n",
    "\n",
    "print(f\"fixed count: {fixed_count}\")"
   ]
  },
  {
   "cell_type": "markdown",
   "metadata": {},
   "source": [
    "## Convert MeCab format to Sudachi format\n",
    "\n",
    "Sudachiフォーマットへの変換"
   ]
  },
  {
   "cell_type": "code",
   "execution_count": null,
   "metadata": {},
   "outputs": [],
   "source": [
    "import pandas as pd\n",
    "import unicodedata\n",
    "\n",
    "mecab_dic = pd.read_csv(output_csv_file_name, header=None, encoding='UTF-8')\n",
    "mecab_dic.columns = [\"hyoso\", \"left_id\", \"right_id\", \"cost\", \"hinshi\", \n",
    "              \"hinshi_sai1\", \"hinshi_sai2\", \"hinshi_sai3\", \"katuyo1\",\n",
    "              \"katuyo2\", \"genkei\", \"yomi\", \"hatuon\"]\n",
    "\n",
    "mecab_dic.head()"
   ]
  },
  {
   "cell_type": "code",
   "execution_count": null,
   "metadata": {},
   "outputs": [],
   "source": [
    "sudachi_dic = mecab_dic.copy()\n",
    "sudachi_dic[\"midashi_trie\"] = sudachi_dic[\"hyoso\"].map(lambda x: unicodedata.normalize(\"NFKC\", str(x).lower()))\n",
    "sudachi_dic[\"midashi_hyoji\"] = sudachi_dic[\"midashi_trie\"]\n",
    "sudachi_dic[\"seiki\"] = sudachi_dic[\"midashi_trie\"]\n",
    "sudachi_dic[\"zisyo_id\"] = \"*\"\n",
    "sudachi_dic[\"bunkatu\"] = \"*\"\n",
    "sudachi_dic[\"bunkatu_a\"] = \"*\"\n",
    "sudachi_dic[\"bunkatu_b\"] = \"*\" \n",
    "sudachi_dic[\"mishiyou\"] = \"*\"\n",
    "\n",
    "sudachi_dic = sudachi_dic.reindex(\n",
    "    columns=[\"midashi_trie\", \"left_id\", \"right_id\", \"cost\", \"midashi_hyoji\", \"hinshi\",\n",
    "             \"hinshi_sai1\", \"hinshi_sai2\", \"hinshi_sai3\", \"katuyo1\", \"katuyo2\",\n",
    "             \"yomi\", \"seiki\", \"zisyo_id\", \"zisyo_id\", \"bunkatu_a\", \"bunkatu_b\", \n",
    "             \"mishiyou\", \"hyoso\", \"genkei\", \"hatuon\", \"tuiki\"])\n",
    "\n",
    "sudachi_dic = sudachi_dic.drop([\"hyoso\", \"genkei\", \"hatuon\", \"tuiki\"], axis=1)\n",
    "\n",
    "# replace \"組織\" to \"一般\"\n",
    "sudachi_dic = sudachi_dic.replace({'hinshi_sai2': {'組織': '一般'}})\n",
    "\n",
    "sudachi_dic.head()"
   ]
  },
  {
   "cell_type": "code",
   "execution_count": null,
   "metadata": {},
   "outputs": [],
   "source": [
    "sudachi_dic.to_csv('sudachi_dic.csv', header=False, index=False, encoding=\"UTF-8\")"
   ]
  },
  {
   "cell_type": "markdown",
   "metadata": {},
   "source": [
    "## Build Sudachi User Dictionary\n",
    "\n",
    "Sudachiのユーザー辞書を作成  \n",
    "※ `system.dic` へのパスは環境に依存するため必要に応じて要修正  "
   ]
  },
  {
   "cell_type": "code",
   "execution_count": null,
   "metadata": {},
   "outputs": [],
   "source": [
    "!sudachipy ubuild -s .venv/lib/python3.7/site-packages/sudachidict_core/resources/system.dic sudachi_dic.csv"
   ]
  }
 ],
 "metadata": {
  "interpreter": {
   "hash": "e116adf778c0a005e38520df82260346124ba25a991bd8360e40446f79d3fbe8"
  },
  "kernelspec": {
   "display_name": "Python 3.7.9 64-bit ('shims': pyenv)",
   "language": "python",
   "name": "python3"
  },
  "language_info": {
   "codemirror_mode": {
    "name": "ipython",
    "version": 3
   },
   "file_extension": ".py",
   "mimetype": "text/x-python",
   "name": "python",
   "nbconvert_exporter": "python",
   "pygments_lexer": "ipython3",
   "version": "3.7.12"
  },
  "orig_nbformat": 4
 },
 "nbformat": 4,
 "nbformat_minor": 2
}
